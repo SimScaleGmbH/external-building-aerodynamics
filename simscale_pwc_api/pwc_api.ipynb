{
 "cells": [
  {
   "cell_type": "markdown",
   "id": "83a49a68-c522-4c3a-8b6e-47377515962f",
   "metadata": {},
   "source": [
    "# Pedestrian Wind Comfort Simulations Using the SimScale API "
   ]
  },
  {
   "cell_type": "code",
   "execution_count": 1,
   "id": "d419a964-085c-4222-b733-0692ae85a5ba",
   "metadata": {},
   "outputs": [],
   "source": [
    "import utilities as util \n",
    "import pathlib "
   ]
  },
  {
   "cell_type": "code",
   "execution_count": 2,
   "id": "ece8600d-e478-43bb-818e-253702ad776d",
   "metadata": {},
   "outputs": [],
   "source": [
    "pwc = util.PedestrianWindComfort()\n"
   ]
  },
  {
   "cell_type": "markdown",
   "id": "ea814b86-2f59-4f5f-bdd5-f606d291f853",
   "metadata": {},
   "source": [
    "## Define Simulation Settings"
   ]
  },
  {
   "cell_type": "markdown",
   "id": "dbf7652e-5b7a-4ab0-a9be-490a29ef24ac",
   "metadata": {},
   "source": [
    "### Setup the API Connection"
   ]
  },
  {
   "cell_type": "code",
   "execution_count": 3,
   "id": "618daa4a-62f8-413e-87ea-e3cf57bf185c",
   "metadata": {},
   "outputs": [
    {
     "name": "stdout",
     "output_type": "stream",
     "text": [
      "SimScale API Key and URL found in environment variables.\n"
     ]
    }
   ],
   "source": [
    "pwc.set_api_connection()\n"
   ]
  },
  {
   "cell_type": "markdown",
   "id": "df7d7551-d95e-48b2-b526-57465e449196",
   "metadata": {},
   "source": [
    "### Create Project "
   ]
  },
  {
   "cell_type": "code",
   "execution_count": 4,
   "id": "96cea875-7d55-4bf9-bf33-eab5add0b4f6",
   "metadata": {},
   "outputs": [],
   "source": [
    "pwc.create_project(\"pwc_api_demo_test\", \"demo\")"
   ]
  },
  {
   "cell_type": "markdown",
   "id": "6a4ea310-13fd-48fb-b736-e8e91795aba0",
   "metadata": {
    "tags": []
   },
   "source": [
    "### Upload Geometry"
   ]
  },
  {
   "cell_type": "markdown",
   "id": "a57adad3-f9b5-49db-908d-da6cdd6bfc93",
   "metadata": {},
   "source": [
    "Provide the name of the files to upload, if it is a directory simply give the name, if it is a file then add the file extension to the name ex: example.stl"
   ]
  },
  {
   "cell_type": "code",
   "execution_count": 5,
   "id": "a08335cf-afb8-4edd-bcc2-5516a81cfc22",
   "metadata": {},
   "outputs": [],
   "source": [
    "name_of_files_to_upload = [\"Base_Design_Boston\", \"Design_1_Boston\", \"Design_2_Boston\"]\n",
    "base_path = pathlib.Path().cwd() / \"Geometries\" \n",
    "geometry_path = pwc.zip_cad_for_upload(name_of_files_to_upload,base_path)\n"
   ]
  },
  {
   "cell_type": "markdown",
   "id": "c4f73e4b-8972-44b1-969d-5ef0af5dc306",
   "metadata": {},
   "source": [
    "### 3 Step Simulation Setup"
   ]
  },
  {
   "cell_type": "markdown",
   "id": "fb58c493-0011-4ffd-9f05-d66d4757b09b",
   "metadata": {},
   "source": [
    "Iterate over the CAD models and run the simulations of each design in parallel\n"
   ]
  },
  {
   "cell_type": "code",
   "execution_count": 6,
   "id": "ff87c5b3-ae3f-4da1-865e-5a748513136c",
   "metadata": {},
   "outputs": [
    {
     "name": "stdout",
     "output_type": "stream",
     "text": [
      "Geometry import status: FINISHED\n",
      "Importing wind data from Meteoblue..\n",
      "simulationId: 411d2ae3-7800-4d03-9acc-b3e2afd757aa\n",
      "Simulation check warnings: []\n",
      "**********\n",
      "Simulation estimation:\n",
      "Number of cells: 3350415 - 5025623\n",
      "----------\n",
      "GPUh consumption: 1.31 - 1.97\n",
      "----------\n",
      "Simulation Time: PT26M - PT1H4M\n",
      "**********\n",
      "runId: 79fac964-8df6-4ac8-bf84-6d8ce1299989\n",
      "Geometry import status: FINISHED\n",
      "Importing wind data from Meteoblue..\n",
      "simulationId: 54ff9cc9-7eb9-4d54-9baf-51eff45cf8b5\n",
      "Simulation check warnings: []\n",
      "**********\n",
      "Simulation estimation:\n",
      "Number of cells: 3350415 - 5025623\n",
      "----------\n",
      "GPUh consumption: 1.31 - 1.97\n",
      "----------\n",
      "Simulation Time: PT26M - PT1H4M\n",
      "**********\n",
      "runId: 922a0691-f860-4515-9106-b8ce2af2941c\n",
      "Geometry import status: FINISHED\n",
      "Importing wind data from Meteoblue..\n",
      "simulationId: 69332bfe-fdcf-40b8-b37f-bc4fd32052c3\n",
      "Simulation check warnings: []\n",
      "**********\n",
      "Simulation estimation:\n",
      "Number of cells: 3350415 - 5025623\n",
      "----------\n",
      "GPUh consumption: 1.31 - 1.97\n",
      "----------\n",
      "Simulation Time: PT26M - PT1H4M\n",
      "**********\n",
      "runId: bcdbd00a-6ac3-49be-9bcd-9a6110b5ef35\n"
     ]
    }
   ],
   "source": [
    "for i, cad in enumerate(name_of_files_to_upload): \n",
    "    #Upload the list of provided CAD models to the SimScale project\n",
    "    pwc.upload_geometry(cad, geometry_path[i])\n",
    "\n",
    "    \"\"\"STEP 1: Region Of Interest\"\"\"\n",
    "    #Uncomment the function below only if you plan to define a custom WT\n",
    "    # pwc.set_custom_wt_size(height_ext = 200, side_ext = 200,\n",
    "    #                        inflow_ext = 200, outflow_ext = 500)\n",
    "    \n",
    "    pwc.set_region_of_interest(radius = 300, center = [50,0], ground_height = 14.4, \n",
    "                               north_angle = 0, \n",
    "                               wt_size = 'moderate') #moderate, large, custom \n",
    "    \n",
    "    \"\"\"STEP 2: The Wind Conditions\"\"\"\n",
    "    #Define information that characterizes the incoming wind\n",
    "    pwc.set_geographical_location(latitude = 42.3600825, longitude = -71.0588801)\n",
    "    pwc.set_num_wind_directions(8)\n",
    "    pwc.set_wind_engineering_standard(\"EU\") #[\"EU\", \"AS_NZS\", \"NEN8100\", \"LONDON\"]\n",
    "    pwc.set_wind_exposure_category([\"EC2\"]* 8) #[\"EC1\", \"EC2\", \"EC3\", \"EC4\", \"EC5\", \"EC6\"]\n",
    "    pwc.set_surface_roughness(surface_roughness= True)\n",
    "    pwc.set_wind_data_source(\"METEOBLUE\") #METEOBLUE, USER_UPLOAD\n",
    "    pwc.set_wind_rose()\n",
    "    \n",
    "    \"\"\"STEP 3: Pedestrian Comfort Map\"\"\"\n",
    "    pwc.set_pedestrian_comfort_map_name(\"ComfortMap1\")\n",
    "    pwc.set_height_above_ground(2)\n",
    "    pwc.set_pedestrian_comfort_ground('absolute') #absolute, relative\n",
    "    pwc.set_pedestrian_comfort_map()\n",
    "    \n",
    "    pwc.add_more_comfort_maps(\"ComfortMap2\", 3, \"absolute\") # call this for each new comfort map \n",
    "    \n",
    "    \"\"\"Simulation Control\"\"\"\n",
    "    pwc.set_maximum_run_time(10000)\n",
    "    pwc.set_num_fluid_passes(3)\n",
    "    pwc.set_simulation_control()\n",
    "    \n",
    "    \"\"\"Mesh Settings\"\"\"\n",
    "    #call this function only when fineness is going to be set as \"TargetSize\"\n",
    "    # pwc.set_mesh_min_cell_size(0.25) \n",
    "    \n",
    "    pwc.set_mesh_fineness(\"VeryCoarse\") #VeryCoarse,Coarse,Moderate,Fine,VeryFine,TargetSize\n",
    "    pwc.set_reynolds_scaling(scaling = 0.1, auto_scale= True) #The value of scaling is used only when auto_scale = False\n",
    "    pwc.set_mesh_settings()\n",
    "    \n",
    "    \"\"\"Start Simulation\"\"\"\n",
    "    pwc.set_simulation_spec(simulation_name= \"Design{}\".format(i))\n",
    "    pwc.create_simulation()\n",
    "    pwc.check_simulation_setup()\n",
    "    pwc.estimate_simulation()\n",
    "    pwc.start_simulation_run(run_name = \"Design{}_8WD\".format(i))"
   ]
  }
 ],
 "metadata": {
  "kernelspec": {
   "display_name": "Python 3 (ipykernel)",
   "language": "python",
   "name": "python3"
  },
  "language_info": {
   "codemirror_mode": {
    "name": "ipython",
    "version": 3
   },
   "file_extension": ".py",
   "mimetype": "text/x-python",
   "name": "python",
   "nbconvert_exporter": "python",
   "pygments_lexer": "ipython3",
   "version": "3.9.12"
  }
 },
 "nbformat": 4,
 "nbformat_minor": 5
}
